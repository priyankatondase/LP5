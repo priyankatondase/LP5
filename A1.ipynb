{
 "cells": [
  {
   "cell_type": "code",
   "execution_count": 45,
   "id": "9e5ffecb",
   "metadata": {},
   "outputs": [],
   "source": [
    "import pandas as pd\n",
    "import matplotlib.pyplot as plt"
   ]
  },
  {
   "cell_type": "code",
   "execution_count": 46,
   "id": "d1b8d98e",
   "metadata": {},
   "outputs": [],
   "source": [
    "df = pd.read_csv('Boston.csv')"
   ]
  },
  {
   "cell_type": "code",
   "execution_count": 47,
   "id": "2261bbaf",
   "metadata": {},
   "outputs": [
    {
     "data": {
      "text/html": [
       "<div>\n",
       "<style scoped>\n",
       "    .dataframe tbody tr th:only-of-type {\n",
       "        vertical-align: middle;\n",
       "    }\n",
       "\n",
       "    .dataframe tbody tr th {\n",
       "        vertical-align: top;\n",
       "    }\n",
       "\n",
       "    .dataframe thead th {\n",
       "        text-align: right;\n",
       "    }\n",
       "</style>\n",
       "<table border=\"1\" class=\"dataframe\">\n",
       "  <thead>\n",
       "    <tr style=\"text-align: right;\">\n",
       "      <th></th>\n",
       "      <th>CRIM</th>\n",
       "      <th>ZN</th>\n",
       "      <th>INDUS</th>\n",
       "      <th>CHAS</th>\n",
       "      <th>NOX</th>\n",
       "      <th>RM</th>\n",
       "      <th>AGE</th>\n",
       "      <th>DIS</th>\n",
       "      <th>RAD</th>\n",
       "      <th>TAX</th>\n",
       "      <th>PTRATIO</th>\n",
       "      <th>B</th>\n",
       "      <th>LSTAT</th>\n",
       "      <th>MEDV</th>\n",
       "      <th>CAT. MEDV</th>\n",
       "      <th>Unnamed: 15</th>\n",
       "      <th>Unnamed: 16</th>\n",
       "    </tr>\n",
       "  </thead>\n",
       "  <tbody>\n",
       "    <tr>\n",
       "      <th>0</th>\n",
       "      <td>0.00632</td>\n",
       "      <td>18.0</td>\n",
       "      <td>2.31</td>\n",
       "      <td>0</td>\n",
       "      <td>0.538</td>\n",
       "      <td>6.575</td>\n",
       "      <td>65.2</td>\n",
       "      <td>4.0900</td>\n",
       "      <td>1</td>\n",
       "      <td>296</td>\n",
       "      <td>15.3</td>\n",
       "      <td>396.90</td>\n",
       "      <td>4.98</td>\n",
       "      <td>24.0</td>\n",
       "      <td>0</td>\n",
       "      <td>NaN</td>\n",
       "      <td>NaN</td>\n",
       "    </tr>\n",
       "    <tr>\n",
       "      <th>1</th>\n",
       "      <td>0.02731</td>\n",
       "      <td>0.0</td>\n",
       "      <td>7.07</td>\n",
       "      <td>0</td>\n",
       "      <td>0.469</td>\n",
       "      <td>6.421</td>\n",
       "      <td>78.9</td>\n",
       "      <td>4.9671</td>\n",
       "      <td>2</td>\n",
       "      <td>242</td>\n",
       "      <td>17.8</td>\n",
       "      <td>396.90</td>\n",
       "      <td>9.14</td>\n",
       "      <td>21.6</td>\n",
       "      <td>0</td>\n",
       "      <td>NaN</td>\n",
       "      <td>NaN</td>\n",
       "    </tr>\n",
       "    <tr>\n",
       "      <th>2</th>\n",
       "      <td>0.02729</td>\n",
       "      <td>0.0</td>\n",
       "      <td>7.07</td>\n",
       "      <td>0</td>\n",
       "      <td>0.469</td>\n",
       "      <td>7.185</td>\n",
       "      <td>61.1</td>\n",
       "      <td>4.9671</td>\n",
       "      <td>2</td>\n",
       "      <td>242</td>\n",
       "      <td>17.8</td>\n",
       "      <td>392.83</td>\n",
       "      <td>4.03</td>\n",
       "      <td>34.7</td>\n",
       "      <td>1</td>\n",
       "      <td>NaN</td>\n",
       "      <td>NaN</td>\n",
       "    </tr>\n",
       "    <tr>\n",
       "      <th>3</th>\n",
       "      <td>0.03237</td>\n",
       "      <td>0.0</td>\n",
       "      <td>2.18</td>\n",
       "      <td>0</td>\n",
       "      <td>0.458</td>\n",
       "      <td>6.998</td>\n",
       "      <td>45.8</td>\n",
       "      <td>6.0622</td>\n",
       "      <td>3</td>\n",
       "      <td>222</td>\n",
       "      <td>18.7</td>\n",
       "      <td>394.63</td>\n",
       "      <td>2.94</td>\n",
       "      <td>33.4</td>\n",
       "      <td>1</td>\n",
       "      <td>NaN</td>\n",
       "      <td>NaN</td>\n",
       "    </tr>\n",
       "    <tr>\n",
       "      <th>4</th>\n",
       "      <td>0.06905</td>\n",
       "      <td>0.0</td>\n",
       "      <td>2.18</td>\n",
       "      <td>0</td>\n",
       "      <td>0.458</td>\n",
       "      <td>7.147</td>\n",
       "      <td>54.2</td>\n",
       "      <td>6.0622</td>\n",
       "      <td>3</td>\n",
       "      <td>222</td>\n",
       "      <td>18.7</td>\n",
       "      <td>396.90</td>\n",
       "      <td>5.33</td>\n",
       "      <td>36.2</td>\n",
       "      <td>1</td>\n",
       "      <td>NaN</td>\n",
       "      <td>NaN</td>\n",
       "    </tr>\n",
       "  </tbody>\n",
       "</table>\n",
       "</div>"
      ],
      "text/plain": [
       "      CRIM    ZN  INDUS  CHAS    NOX     RM   AGE     DIS  RAD  TAX  PTRATIO  \\\n",
       "0  0.00632  18.0   2.31     0  0.538  6.575  65.2  4.0900    1  296     15.3   \n",
       "1  0.02731   0.0   7.07     0  0.469  6.421  78.9  4.9671    2  242     17.8   \n",
       "2  0.02729   0.0   7.07     0  0.469  7.185  61.1  4.9671    2  242     17.8   \n",
       "3  0.03237   0.0   2.18     0  0.458  6.998  45.8  6.0622    3  222     18.7   \n",
       "4  0.06905   0.0   2.18     0  0.458  7.147  54.2  6.0622    3  222     18.7   \n",
       "\n",
       "        B  LSTAT  MEDV  CAT. MEDV  Unnamed: 15  Unnamed: 16  \n",
       "0  396.90   4.98  24.0          0          NaN          NaN  \n",
       "1  396.90   9.14  21.6          0          NaN          NaN  \n",
       "2  392.83   4.03  34.7          1          NaN          NaN  \n",
       "3  394.63   2.94  33.4          1          NaN          NaN  \n",
       "4  396.90   5.33  36.2          1          NaN          NaN  "
      ]
     },
     "execution_count": 47,
     "metadata": {},
     "output_type": "execute_result"
    }
   ],
   "source": [
    "df.head()"
   ]
  },
  {
   "cell_type": "code",
   "execution_count": 48,
   "id": "d9de1801",
   "metadata": {},
   "outputs": [],
   "source": [
    "df.drop(columns =['Unnamed: 15' , 'Unnamed: 16'], inplace = True)"
   ]
  },
  {
   "cell_type": "code",
   "execution_count": 49,
   "id": "145b24e8",
   "metadata": {},
   "outputs": [],
   "source": [
    "df.drop(columns = ['CAT. MEDV'], inplace = True)"
   ]
  },
  {
   "cell_type": "code",
   "execution_count": 50,
   "id": "4d29e867",
   "metadata": {},
   "outputs": [
    {
     "data": {
      "text/plain": [
       "CRIM       0\n",
       "ZN         0\n",
       "INDUS      0\n",
       "CHAS       0\n",
       "NOX        0\n",
       "RM         0\n",
       "AGE        0\n",
       "DIS        0\n",
       "RAD        0\n",
       "TAX        0\n",
       "PTRATIO    0\n",
       "B          0\n",
       "LSTAT      0\n",
       "MEDV       0\n",
       "dtype: int64"
      ]
     },
     "execution_count": 50,
     "metadata": {},
     "output_type": "execute_result"
    }
   ],
   "source": [
    "df.isnull().sum()"
   ]
  },
  {
   "cell_type": "code",
   "execution_count": 51,
   "id": "7f975574",
   "metadata": {},
   "outputs": [
    {
     "name": "stdout",
     "output_type": "stream",
     "text": [
      "<class 'pandas.core.frame.DataFrame'>\n",
      "RangeIndex: 506 entries, 0 to 505\n",
      "Data columns (total 14 columns):\n",
      " #   Column   Non-Null Count  Dtype  \n",
      "---  ------   --------------  -----  \n",
      " 0   CRIM     506 non-null    float64\n",
      " 1   ZN       506 non-null    float64\n",
      " 2   INDUS    506 non-null    float64\n",
      " 3   CHAS     506 non-null    int64  \n",
      " 4   NOX      506 non-null    float64\n",
      " 5   RM       506 non-null    float64\n",
      " 6   AGE      506 non-null    float64\n",
      " 7   DIS      506 non-null    float64\n",
      " 8   RAD      506 non-null    int64  \n",
      " 9   TAX      506 non-null    int64  \n",
      " 10  PTRATIO  506 non-null    float64\n",
      " 11  B        506 non-null    float64\n",
      " 12  LSTAT    506 non-null    float64\n",
      " 13  MEDV     506 non-null    float64\n",
      "dtypes: float64(11), int64(3)\n",
      "memory usage: 55.5 KB\n"
     ]
    }
   ],
   "source": [
    "df.info()"
   ]
  },
  {
   "cell_type": "code",
   "execution_count": 52,
   "id": "8a67d32b",
   "metadata": {},
   "outputs": [
    {
     "data": {
      "text/html": [
       "<div>\n",
       "<style scoped>\n",
       "    .dataframe tbody tr th:only-of-type {\n",
       "        vertical-align: middle;\n",
       "    }\n",
       "\n",
       "    .dataframe tbody tr th {\n",
       "        vertical-align: top;\n",
       "    }\n",
       "\n",
       "    .dataframe thead th {\n",
       "        text-align: right;\n",
       "    }\n",
       "</style>\n",
       "<table border=\"1\" class=\"dataframe\">\n",
       "  <thead>\n",
       "    <tr style=\"text-align: right;\">\n",
       "      <th></th>\n",
       "      <th>CRIM</th>\n",
       "      <th>ZN</th>\n",
       "      <th>INDUS</th>\n",
       "      <th>CHAS</th>\n",
       "      <th>NOX</th>\n",
       "      <th>RM</th>\n",
       "      <th>AGE</th>\n",
       "      <th>DIS</th>\n",
       "      <th>RAD</th>\n",
       "      <th>TAX</th>\n",
       "      <th>PTRATIO</th>\n",
       "      <th>B</th>\n",
       "      <th>LSTAT</th>\n",
       "      <th>MEDV</th>\n",
       "    </tr>\n",
       "  </thead>\n",
       "  <tbody>\n",
       "    <tr>\n",
       "      <th>count</th>\n",
       "      <td>506.000000</td>\n",
       "      <td>506.000000</td>\n",
       "      <td>506.000000</td>\n",
       "      <td>506.000000</td>\n",
       "      <td>506.000000</td>\n",
       "      <td>506.000000</td>\n",
       "      <td>506.000000</td>\n",
       "      <td>506.000000</td>\n",
       "      <td>506.000000</td>\n",
       "      <td>506.000000</td>\n",
       "      <td>506.000000</td>\n",
       "      <td>506.000000</td>\n",
       "      <td>506.000000</td>\n",
       "      <td>506.000000</td>\n",
       "    </tr>\n",
       "    <tr>\n",
       "      <th>mean</th>\n",
       "      <td>3.613524</td>\n",
       "      <td>11.363636</td>\n",
       "      <td>11.136779</td>\n",
       "      <td>0.069170</td>\n",
       "      <td>0.554695</td>\n",
       "      <td>6.284634</td>\n",
       "      <td>68.574901</td>\n",
       "      <td>3.795043</td>\n",
       "      <td>9.549407</td>\n",
       "      <td>408.237154</td>\n",
       "      <td>18.455534</td>\n",
       "      <td>356.674032</td>\n",
       "      <td>12.653063</td>\n",
       "      <td>22.532806</td>\n",
       "    </tr>\n",
       "    <tr>\n",
       "      <th>std</th>\n",
       "      <td>8.601545</td>\n",
       "      <td>23.322453</td>\n",
       "      <td>6.860353</td>\n",
       "      <td>0.253994</td>\n",
       "      <td>0.115878</td>\n",
       "      <td>0.702617</td>\n",
       "      <td>28.148861</td>\n",
       "      <td>2.105710</td>\n",
       "      <td>8.707259</td>\n",
       "      <td>168.537116</td>\n",
       "      <td>2.164946</td>\n",
       "      <td>91.294864</td>\n",
       "      <td>7.141062</td>\n",
       "      <td>9.197104</td>\n",
       "    </tr>\n",
       "    <tr>\n",
       "      <th>min</th>\n",
       "      <td>0.006320</td>\n",
       "      <td>0.000000</td>\n",
       "      <td>0.460000</td>\n",
       "      <td>0.000000</td>\n",
       "      <td>0.385000</td>\n",
       "      <td>3.561000</td>\n",
       "      <td>2.900000</td>\n",
       "      <td>1.129600</td>\n",
       "      <td>1.000000</td>\n",
       "      <td>187.000000</td>\n",
       "      <td>12.600000</td>\n",
       "      <td>0.320000</td>\n",
       "      <td>1.730000</td>\n",
       "      <td>5.000000</td>\n",
       "    </tr>\n",
       "    <tr>\n",
       "      <th>25%</th>\n",
       "      <td>0.082045</td>\n",
       "      <td>0.000000</td>\n",
       "      <td>5.190000</td>\n",
       "      <td>0.000000</td>\n",
       "      <td>0.449000</td>\n",
       "      <td>5.885500</td>\n",
       "      <td>45.025000</td>\n",
       "      <td>2.100175</td>\n",
       "      <td>4.000000</td>\n",
       "      <td>279.000000</td>\n",
       "      <td>17.400000</td>\n",
       "      <td>375.377500</td>\n",
       "      <td>6.950000</td>\n",
       "      <td>17.025000</td>\n",
       "    </tr>\n",
       "    <tr>\n",
       "      <th>50%</th>\n",
       "      <td>0.256510</td>\n",
       "      <td>0.000000</td>\n",
       "      <td>9.690000</td>\n",
       "      <td>0.000000</td>\n",
       "      <td>0.538000</td>\n",
       "      <td>6.208500</td>\n",
       "      <td>77.500000</td>\n",
       "      <td>3.207450</td>\n",
       "      <td>5.000000</td>\n",
       "      <td>330.000000</td>\n",
       "      <td>19.050000</td>\n",
       "      <td>391.440000</td>\n",
       "      <td>11.360000</td>\n",
       "      <td>21.200000</td>\n",
       "    </tr>\n",
       "    <tr>\n",
       "      <th>75%</th>\n",
       "      <td>3.677083</td>\n",
       "      <td>12.500000</td>\n",
       "      <td>18.100000</td>\n",
       "      <td>0.000000</td>\n",
       "      <td>0.624000</td>\n",
       "      <td>6.623500</td>\n",
       "      <td>94.075000</td>\n",
       "      <td>5.188425</td>\n",
       "      <td>24.000000</td>\n",
       "      <td>666.000000</td>\n",
       "      <td>20.200000</td>\n",
       "      <td>396.225000</td>\n",
       "      <td>16.955000</td>\n",
       "      <td>25.000000</td>\n",
       "    </tr>\n",
       "    <tr>\n",
       "      <th>max</th>\n",
       "      <td>88.976200</td>\n",
       "      <td>100.000000</td>\n",
       "      <td>27.740000</td>\n",
       "      <td>1.000000</td>\n",
       "      <td>0.871000</td>\n",
       "      <td>8.780000</td>\n",
       "      <td>100.000000</td>\n",
       "      <td>12.126500</td>\n",
       "      <td>24.000000</td>\n",
       "      <td>711.000000</td>\n",
       "      <td>22.000000</td>\n",
       "      <td>396.900000</td>\n",
       "      <td>37.970000</td>\n",
       "      <td>50.000000</td>\n",
       "    </tr>\n",
       "  </tbody>\n",
       "</table>\n",
       "</div>"
      ],
      "text/plain": [
       "             CRIM          ZN       INDUS        CHAS         NOX          RM  \\\n",
       "count  506.000000  506.000000  506.000000  506.000000  506.000000  506.000000   \n",
       "mean     3.613524   11.363636   11.136779    0.069170    0.554695    6.284634   \n",
       "std      8.601545   23.322453    6.860353    0.253994    0.115878    0.702617   \n",
       "min      0.006320    0.000000    0.460000    0.000000    0.385000    3.561000   \n",
       "25%      0.082045    0.000000    5.190000    0.000000    0.449000    5.885500   \n",
       "50%      0.256510    0.000000    9.690000    0.000000    0.538000    6.208500   \n",
       "75%      3.677083   12.500000   18.100000    0.000000    0.624000    6.623500   \n",
       "max     88.976200  100.000000   27.740000    1.000000    0.871000    8.780000   \n",
       "\n",
       "              AGE         DIS         RAD         TAX     PTRATIO           B  \\\n",
       "count  506.000000  506.000000  506.000000  506.000000  506.000000  506.000000   \n",
       "mean    68.574901    3.795043    9.549407  408.237154   18.455534  356.674032   \n",
       "std     28.148861    2.105710    8.707259  168.537116    2.164946   91.294864   \n",
       "min      2.900000    1.129600    1.000000  187.000000   12.600000    0.320000   \n",
       "25%     45.025000    2.100175    4.000000  279.000000   17.400000  375.377500   \n",
       "50%     77.500000    3.207450    5.000000  330.000000   19.050000  391.440000   \n",
       "75%     94.075000    5.188425   24.000000  666.000000   20.200000  396.225000   \n",
       "max    100.000000   12.126500   24.000000  711.000000   22.000000  396.900000   \n",
       "\n",
       "            LSTAT        MEDV  \n",
       "count  506.000000  506.000000  \n",
       "mean    12.653063   22.532806  \n",
       "std      7.141062    9.197104  \n",
       "min      1.730000    5.000000  \n",
       "25%      6.950000   17.025000  \n",
       "50%     11.360000   21.200000  \n",
       "75%     16.955000   25.000000  \n",
       "max     37.970000   50.000000  "
      ]
     },
     "execution_count": 52,
     "metadata": {},
     "output_type": "execute_result"
    }
   ],
   "source": [
    "df.describe()"
   ]
  },
  {
   "cell_type": "code",
   "execution_count": 53,
   "id": "2f58a6d2",
   "metadata": {},
   "outputs": [
    {
     "data": {
      "text/plain": [
       "LSTAT     -0.737663\n",
       "PTRATIO   -0.507787\n",
       "INDUS     -0.483725\n",
       "TAX       -0.468536\n",
       "NOX       -0.427321\n",
       "CRIM      -0.388305\n",
       "RAD       -0.381626\n",
       "AGE       -0.376955\n",
       "CHAS       0.175260\n",
       "DIS        0.249929\n",
       "B          0.333461\n",
       "ZN         0.360445\n",
       "RM         0.695360\n",
       "MEDV       1.000000\n",
       "Name: MEDV, dtype: float64"
      ]
     },
     "execution_count": 53,
     "metadata": {},
     "output_type": "execute_result"
    }
   ],
   "source": [
    "df.corr() ['MEDV'].sort_values()"
   ]
  },
  {
   "cell_type": "code",
   "execution_count": 54,
   "id": "3cb572f3",
   "metadata": {},
   "outputs": [
    {
     "data": {
      "text/plain": [
       "((506, 3), (506,))"
      ]
     },
     "execution_count": 54,
     "metadata": {},
     "output_type": "execute_result"
    }
   ],
   "source": [
    "X = df.loc[:,['LSTAT','PTRATIO','RM']]\n",
    "Y = df.loc[:,'MEDV']\n",
    "X.shape,Y.shape"
   ]
  },
  {
   "cell_type": "code",
   "execution_count": 55,
   "id": "ae1baea0",
   "metadata": {},
   "outputs": [],
   "source": [
    "from sklearn.model_selection import train_test_split\n",
    "x_train,x_test,y_train,y_test = train_test_split(X,Y,test_size=0.25,random_state=10)"
   ]
  },
  {
   "cell_type": "code",
   "execution_count": 56,
   "id": "d6ad19ba",
   "metadata": {},
   "outputs": [],
   "source": [
    "from sklearn.preprocessing import StandardScaler"
   ]
  },
  {
   "cell_type": "code",
   "execution_count": 57,
   "id": "b4771aab",
   "metadata": {},
   "outputs": [],
   "source": [
    "scaler = StandardScaler()"
   ]
  },
  {
   "cell_type": "code",
   "execution_count": 58,
   "id": "a425de81",
   "metadata": {},
   "outputs": [
    {
     "data": {
      "text/html": [
       "<style>#sk-container-id-2 {color: black;background-color: white;}#sk-container-id-2 pre{padding: 0;}#sk-container-id-2 div.sk-toggleable {background-color: white;}#sk-container-id-2 label.sk-toggleable__label {cursor: pointer;display: block;width: 100%;margin-bottom: 0;padding: 0.3em;box-sizing: border-box;text-align: center;}#sk-container-id-2 label.sk-toggleable__label-arrow:before {content: \"▸\";float: left;margin-right: 0.25em;color: #696969;}#sk-container-id-2 label.sk-toggleable__label-arrow:hover:before {color: black;}#sk-container-id-2 div.sk-estimator:hover label.sk-toggleable__label-arrow:before {color: black;}#sk-container-id-2 div.sk-toggleable__content {max-height: 0;max-width: 0;overflow: hidden;text-align: left;background-color: #f0f8ff;}#sk-container-id-2 div.sk-toggleable__content pre {margin: 0.2em;color: black;border-radius: 0.25em;background-color: #f0f8ff;}#sk-container-id-2 input.sk-toggleable__control:checked~div.sk-toggleable__content {max-height: 200px;max-width: 100%;overflow: auto;}#sk-container-id-2 input.sk-toggleable__control:checked~label.sk-toggleable__label-arrow:before {content: \"▾\";}#sk-container-id-2 div.sk-estimator input.sk-toggleable__control:checked~label.sk-toggleable__label {background-color: #d4ebff;}#sk-container-id-2 div.sk-label input.sk-toggleable__control:checked~label.sk-toggleable__label {background-color: #d4ebff;}#sk-container-id-2 input.sk-hidden--visually {border: 0;clip: rect(1px 1px 1px 1px);clip: rect(1px, 1px, 1px, 1px);height: 1px;margin: -1px;overflow: hidden;padding: 0;position: absolute;width: 1px;}#sk-container-id-2 div.sk-estimator {font-family: monospace;background-color: #f0f8ff;border: 1px dotted black;border-radius: 0.25em;box-sizing: border-box;margin-bottom: 0.5em;}#sk-container-id-2 div.sk-estimator:hover {background-color: #d4ebff;}#sk-container-id-2 div.sk-parallel-item::after {content: \"\";width: 100%;border-bottom: 1px solid gray;flex-grow: 1;}#sk-container-id-2 div.sk-label:hover label.sk-toggleable__label {background-color: #d4ebff;}#sk-container-id-2 div.sk-serial::before {content: \"\";position: absolute;border-left: 1px solid gray;box-sizing: border-box;top: 0;bottom: 0;left: 50%;z-index: 0;}#sk-container-id-2 div.sk-serial {display: flex;flex-direction: column;align-items: center;background-color: white;padding-right: 0.2em;padding-left: 0.2em;position: relative;}#sk-container-id-2 div.sk-item {position: relative;z-index: 1;}#sk-container-id-2 div.sk-parallel {display: flex;align-items: stretch;justify-content: center;background-color: white;position: relative;}#sk-container-id-2 div.sk-item::before, #sk-container-id-2 div.sk-parallel-item::before {content: \"\";position: absolute;border-left: 1px solid gray;box-sizing: border-box;top: 0;bottom: 0;left: 50%;z-index: -1;}#sk-container-id-2 div.sk-parallel-item {display: flex;flex-direction: column;z-index: 1;position: relative;background-color: white;}#sk-container-id-2 div.sk-parallel-item:first-child::after {align-self: flex-end;width: 50%;}#sk-container-id-2 div.sk-parallel-item:last-child::after {align-self: flex-start;width: 50%;}#sk-container-id-2 div.sk-parallel-item:only-child::after {width: 0;}#sk-container-id-2 div.sk-dashed-wrapped {border: 1px dashed gray;margin: 0 0.4em 0.5em 0.4em;box-sizing: border-box;padding-bottom: 0.4em;background-color: white;}#sk-container-id-2 div.sk-label label {font-family: monospace;font-weight: bold;display: inline-block;line-height: 1.2em;}#sk-container-id-2 div.sk-label-container {text-align: center;}#sk-container-id-2 div.sk-container {/* jupyter's `normalize.less` sets `[hidden] { display: none; }` but bootstrap.min.css set `[hidden] { display: none !important; }` so we also need the `!important` here to be able to override the default hidden behavior on the sphinx rendered scikit-learn.org. See: https://github.com/scikit-learn/scikit-learn/issues/21755 */display: inline-block !important;position: relative;}#sk-container-id-2 div.sk-text-repr-fallback {display: none;}</style><div id=\"sk-container-id-2\" class=\"sk-top-container\"><div class=\"sk-text-repr-fallback\"><pre>StandardScaler()</pre><b>In a Jupyter environment, please rerun this cell to show the HTML representation or trust the notebook. <br />On GitHub, the HTML representation is unable to render, please try loading this page with nbviewer.org.</b></div><div class=\"sk-container\" hidden><div class=\"sk-item\"><div class=\"sk-estimator sk-toggleable\"><input class=\"sk-toggleable__control sk-hidden--visually\" id=\"sk-estimator-id-2\" type=\"checkbox\" checked><label for=\"sk-estimator-id-2\" class=\"sk-toggleable__label sk-toggleable__label-arrow\">StandardScaler</label><div class=\"sk-toggleable__content\"><pre>StandardScaler()</pre></div></div></div></div></div>"
      ],
      "text/plain": [
       "StandardScaler()"
      ]
     },
     "execution_count": 58,
     "metadata": {},
     "output_type": "execute_result"
    }
   ],
   "source": [
    "scaler.fit(x_train)"
   ]
  },
  {
   "cell_type": "code",
   "execution_count": 59,
   "id": "9cd7dfbf",
   "metadata": {},
   "outputs": [],
   "source": [
    "x_train = scaler.transform(x_train)\n",
    "x_test = scaler.transform(x_test)"
   ]
  },
  {
   "cell_type": "code",
   "execution_count": 26,
   "id": "69f72751",
   "metadata": {},
   "outputs": [],
   "source": [
    "from keras.models import Sequential\n",
    "from keras.layers import Dense"
   ]
  },
  {
   "cell_type": "code",
   "execution_count": 27,
   "id": "823d0af8",
   "metadata": {},
   "outputs": [],
   "source": [
    "model = Sequential()"
   ]
  },
  {
   "cell_type": "code",
   "execution_count": 34,
   "id": "7ab5ac09",
   "metadata": {},
   "outputs": [
    {
     "name": "stdout",
     "output_type": "stream",
     "text": [
      "Model: \"sequential\"\n",
      "_________________________________________________________________\n",
      " Layer (type)                Output Shape              Param #   \n",
      "=================================================================\n",
      " input (Dense)               (None, 128)               512       \n",
      "                                                                 \n",
      " l1 (Dense)                  (None, 64)                8256      \n",
      "                                                                 \n",
      " output (Dense)              (None, 1)                 65        \n",
      "                                                                 \n",
      " inputl (Dense)              (None, 128)               256       \n",
      "                                                                 \n",
      " inputlay (Dense)            (None, 128)               16512     \n",
      "                                                                 \n",
      " inputlayer (Dense)          (None, 128)               16512     \n",
      "                                                                 \n",
      " Slayer_1 (Dense)            (None, 64)                8256      \n",
      "                                                                 \n",
      " Soutput (Dense)             (None, 1)                 65        \n",
      "                                                                 \n",
      "=================================================================\n",
      "Total params: 50,434\n",
      "Trainable params: 50,434\n",
      "Non-trainable params: 0\n",
      "_________________________________________________________________\n"
     ]
    }
   ],
   "source": [
    "model.add(Dense(128,input_shape=(3,),activation='relu', name='inputlayer'))\n",
    "model.add(Dense(64,activation='relu', name='Slayer_1'))\n",
    "model.add(Dense(1,activation='linear', name='Soutput'))\n",
    "model.compile(optimizer='adam', loss='mse', metrics=['mae'])\n",
    "model.summary()"
   ]
  },
  {
   "cell_type": "code",
   "execution_count": 35,
   "id": "07c29710",
   "metadata": {},
   "outputs": [
    {
     "name": "stdout",
     "output_type": "stream",
     "text": [
      "Epoch 1/100\n",
      "6/6 [==============================] - 4s 132ms/step - loss: 555.1615 - mae: 21.7418 - val_loss: 549.7356 - val_mae: 21.8470\n",
      "Epoch 2/100\n",
      "6/6 [==============================] - 0s 27ms/step - loss: 538.1729 - mae: 21.3877 - val_loss: 521.4825 - val_mae: 21.2175\n",
      "Epoch 3/100\n",
      "6/6 [==============================] - 0s 29ms/step - loss: 489.6075 - mae: 20.2508 - val_loss: 445.5306 - val_mae: 19.3804\n",
      "Epoch 4/100\n",
      "6/6 [==============================] - 0s 25ms/step - loss: 372.6249 - mae: 17.2949 - val_loss: 279.9895 - val_mae: 14.6736\n",
      "Epoch 5/100\n",
      "6/6 [==============================] - 0s 26ms/step - loss: 187.9366 - mae: 11.8585 - val_loss: 116.7217 - val_mae: 8.4855\n",
      "Epoch 6/100\n",
      "6/6 [==============================] - 0s 27ms/step - loss: 116.4330 - mae: 8.7584 - val_loss: 100.4404 - val_mae: 7.8574\n",
      "Epoch 7/100\n",
      "6/6 [==============================] - 0s 25ms/step - loss: 83.9849 - mae: 7.5614 - val_loss: 88.8412 - val_mae: 7.4691\n",
      "Epoch 8/100\n",
      "6/6 [==============================] - 0s 26ms/step - loss: 69.9426 - mae: 6.7625 - val_loss: 79.3772 - val_mae: 6.9019\n",
      "Epoch 9/100\n",
      "6/6 [==============================] - 0s 25ms/step - loss: 54.1176 - mae: 6.0283 - val_loss: 63.2433 - val_mae: 5.9793\n",
      "Epoch 10/100\n",
      "6/6 [==============================] - 0s 26ms/step - loss: 45.1450 - mae: 5.5690 - val_loss: 57.0727 - val_mae: 5.6627\n",
      "Epoch 11/100\n",
      "6/6 [==============================] - 0s 27ms/step - loss: 36.9492 - mae: 4.9511 - val_loss: 49.4835 - val_mae: 5.0689\n",
      "Epoch 12/100\n",
      "6/6 [==============================] - 0s 24ms/step - loss: 30.6925 - mae: 4.4671 - val_loss: 43.8901 - val_mae: 4.6906\n",
      "Epoch 13/100\n",
      "6/6 [==============================] - 0s 27ms/step - loss: 25.7631 - mae: 4.0873 - val_loss: 39.1192 - val_mae: 4.4237\n",
      "Epoch 14/100\n",
      "6/6 [==============================] - 0s 25ms/step - loss: 22.2725 - mae: 3.7857 - val_loss: 35.2767 - val_mae: 4.1315\n",
      "Epoch 15/100\n",
      "6/6 [==============================] - 0s 24ms/step - loss: 20.2147 - mae: 3.6142 - val_loss: 32.4741 - val_mae: 3.9205\n",
      "Epoch 16/100\n",
      "6/6 [==============================] - 0s 39ms/step - loss: 19.1310 - mae: 3.5443 - val_loss: 31.0286 - val_mae: 3.7893\n",
      "Epoch 17/100\n",
      "6/6 [==============================] - 0s 30ms/step - loss: 18.6542 - mae: 3.4702 - val_loss: 30.0152 - val_mae: 3.7076\n",
      "Epoch 18/100\n",
      "6/6 [==============================] - 0s 29ms/step - loss: 18.2550 - mae: 3.4305 - val_loss: 29.6386 - val_mae: 3.6794\n",
      "Epoch 19/100\n",
      "6/6 [==============================] - 0s 27ms/step - loss: 18.0026 - mae: 3.4147 - val_loss: 29.7320 - val_mae: 3.6684\n",
      "Epoch 20/100\n",
      "6/6 [==============================] - 0s 24ms/step - loss: 17.8421 - mae: 3.4064 - val_loss: 29.5260 - val_mae: 3.6340\n",
      "Epoch 21/100\n",
      "6/6 [==============================] - 0s 22ms/step - loss: 17.8238 - mae: 3.3906 - val_loss: 29.6169 - val_mae: 3.6186\n",
      "Epoch 22/100\n",
      "6/6 [==============================] - 0s 26ms/step - loss: 17.5250 - mae: 3.3697 - val_loss: 29.3856 - val_mae: 3.6092\n",
      "Epoch 23/100\n",
      "6/6 [==============================] - 0s 26ms/step - loss: 17.3799 - mae: 3.3767 - val_loss: 29.2329 - val_mae: 3.5995\n",
      "Epoch 24/100\n",
      "6/6 [==============================] - 0s 22ms/step - loss: 16.9927 - mae: 3.3501 - val_loss: 29.4290 - val_mae: 3.5871\n",
      "Epoch 25/100\n",
      "6/6 [==============================] - 0s 24ms/step - loss: 16.9125 - mae: 3.3109 - val_loss: 29.2740 - val_mae: 3.5714\n",
      "Epoch 26/100\n",
      "6/6 [==============================] - 0s 26ms/step - loss: 16.6589 - mae: 3.3131 - val_loss: 29.2550 - val_mae: 3.5632\n",
      "Epoch 27/100\n",
      "6/6 [==============================] - 0s 19ms/step - loss: 16.2934 - mae: 3.2656 - val_loss: 29.4181 - val_mae: 3.5576\n",
      "Epoch 28/100\n",
      "6/6 [==============================] - 0s 27ms/step - loss: 16.3142 - mae: 3.2415 - val_loss: 28.9820 - val_mae: 3.5292\n",
      "Epoch 29/100\n",
      "6/6 [==============================] - 0s 24ms/step - loss: 16.3370 - mae: 3.2527 - val_loss: 28.8680 - val_mae: 3.5480\n",
      "Epoch 30/100\n",
      "6/6 [==============================] - 0s 24ms/step - loss: 15.9406 - mae: 3.2090 - val_loss: 29.3203 - val_mae: 3.5318\n",
      "Epoch 31/100\n",
      "6/6 [==============================] - 0s 21ms/step - loss: 15.3986 - mae: 3.1472 - val_loss: 28.9390 - val_mae: 3.5041\n",
      "Epoch 32/100\n",
      "6/6 [==============================] - 0s 26ms/step - loss: 15.3278 - mae: 3.1777 - val_loss: 29.0039 - val_mae: 3.5035\n",
      "Epoch 33/100\n",
      "6/6 [==============================] - 0s 24ms/step - loss: 15.0394 - mae: 3.1151 - val_loss: 29.1549 - val_mae: 3.4860\n",
      "Epoch 34/100\n",
      "6/6 [==============================] - 0s 25ms/step - loss: 14.9216 - mae: 3.1007 - val_loss: 28.8523 - val_mae: 3.4742\n",
      "Epoch 35/100\n",
      "6/6 [==============================] - 0s 24ms/step - loss: 14.8825 - mae: 3.1362 - val_loss: 29.0536 - val_mae: 3.4626\n",
      "Epoch 36/100\n",
      "6/6 [==============================] - 0s 24ms/step - loss: 14.3976 - mae: 3.0518 - val_loss: 28.7923 - val_mae: 3.4455\n",
      "Epoch 37/100\n",
      "6/6 [==============================] - 0s 21ms/step - loss: 14.0968 - mae: 3.0350 - val_loss: 28.4642 - val_mae: 3.4319\n",
      "Epoch 38/100\n",
      "6/6 [==============================] - 0s 24ms/step - loss: 14.2628 - mae: 3.0281 - val_loss: 28.4442 - val_mae: 3.4192\n",
      "Epoch 39/100\n",
      "6/6 [==============================] - 0s 23ms/step - loss: 13.8203 - mae: 3.0151 - val_loss: 28.4645 - val_mae: 3.4094\n",
      "Epoch 40/100\n",
      "6/6 [==============================] - 0s 30ms/step - loss: 13.8885 - mae: 2.9908 - val_loss: 28.9594 - val_mae: 3.4123\n",
      "Epoch 41/100\n",
      "6/6 [==============================] - 0s 23ms/step - loss: 13.5269 - mae: 2.9605 - val_loss: 28.5616 - val_mae: 3.3968\n",
      "Epoch 42/100\n",
      "6/6 [==============================] - 0s 26ms/step - loss: 13.1474 - mae: 2.9156 - val_loss: 28.6443 - val_mae: 3.3920\n",
      "Epoch 43/100\n",
      "6/6 [==============================] - 0s 32ms/step - loss: 13.1707 - mae: 2.9076 - val_loss: 28.3108 - val_mae: 3.3586\n",
      "Epoch 44/100\n",
      "6/6 [==============================] - 0s 30ms/step - loss: 12.9892 - mae: 2.8599 - val_loss: 28.3663 - val_mae: 3.3664\n",
      "Epoch 45/100\n",
      "6/6 [==============================] - 0s 24ms/step - loss: 12.6626 - mae: 2.8617 - val_loss: 28.2291 - val_mae: 3.3384\n",
      "Epoch 46/100\n",
      "6/6 [==============================] - 0s 22ms/step - loss: 12.4555 - mae: 2.8130 - val_loss: 28.5394 - val_mae: 3.3505\n",
      "Epoch 47/100\n",
      "6/6 [==============================] - 0s 25ms/step - loss: 12.4866 - mae: 2.8133 - val_loss: 28.2687 - val_mae: 3.3429\n",
      "Epoch 48/100\n",
      "6/6 [==============================] - 0s 26ms/step - loss: 12.2923 - mae: 2.7619 - val_loss: 28.5671 - val_mae: 3.3282\n",
      "Epoch 49/100\n",
      "6/6 [==============================] - 0s 28ms/step - loss: 11.8775 - mae: 2.7267 - val_loss: 28.5477 - val_mae: 3.3271\n",
      "Epoch 50/100\n",
      "6/6 [==============================] - 0s 25ms/step - loss: 11.7348 - mae: 2.7365 - val_loss: 28.4413 - val_mae: 3.3191\n",
      "Epoch 51/100\n",
      "6/6 [==============================] - 0s 26ms/step - loss: 12.1465 - mae: 2.7325 - val_loss: 28.3173 - val_mae: 3.3069\n",
      "Epoch 52/100\n",
      "6/6 [==============================] - 0s 25ms/step - loss: 11.8295 - mae: 2.7694 - val_loss: 28.2062 - val_mae: 3.3055\n",
      "Epoch 53/100\n",
      "6/6 [==============================] - 0s 30ms/step - loss: 11.4666 - mae: 2.6477 - val_loss: 28.3890 - val_mae: 3.3081\n",
      "Epoch 54/100\n",
      "6/6 [==============================] - 0s 25ms/step - loss: 11.9295 - mae: 2.7380 - val_loss: 27.9406 - val_mae: 3.2831\n",
      "Epoch 55/100\n",
      "6/6 [==============================] - 0s 25ms/step - loss: 11.3310 - mae: 2.6385 - val_loss: 28.1195 - val_mae: 3.2929\n",
      "Epoch 56/100\n",
      "6/6 [==============================] - 0s 22ms/step - loss: 11.6729 - mae: 2.7381 - val_loss: 27.9289 - val_mae: 3.2829\n",
      "Epoch 57/100\n",
      "6/6 [==============================] - 0s 26ms/step - loss: 10.9751 - mae: 2.5865 - val_loss: 28.5943 - val_mae: 3.3342\n",
      "Epoch 58/100\n",
      "6/6 [==============================] - 0s 25ms/step - loss: 11.0709 - mae: 2.6399 - val_loss: 28.0808 - val_mae: 3.3127\n",
      "Epoch 59/100\n",
      "6/6 [==============================] - 0s 23ms/step - loss: 10.9280 - mae: 2.6125 - val_loss: 28.2805 - val_mae: 3.3035\n",
      "Epoch 60/100\n",
      "6/6 [==============================] - 0s 25ms/step - loss: 10.2758 - mae: 2.4944 - val_loss: 28.0512 - val_mae: 3.2846\n",
      "Epoch 61/100\n",
      "6/6 [==============================] - 0s 25ms/step - loss: 10.8549 - mae: 2.6103 - val_loss: 28.2537 - val_mae: 3.2766\n",
      "Epoch 62/100\n"
     ]
    },
    {
     "name": "stdout",
     "output_type": "stream",
     "text": [
      "6/6 [==============================] - 0s 29ms/step - loss: 10.8039 - mae: 2.5741 - val_loss: 28.0859 - val_mae: 3.2575\n",
      "Epoch 63/100\n",
      "6/6 [==============================] - 0s 27ms/step - loss: 10.9406 - mae: 2.6337 - val_loss: 27.6300 - val_mae: 3.2602\n",
      "Epoch 64/100\n",
      "6/6 [==============================] - 0s 25ms/step - loss: 10.4063 - mae: 2.5125 - val_loss: 28.7964 - val_mae: 3.3270\n",
      "Epoch 65/100\n",
      "6/6 [==============================] - 0s 28ms/step - loss: 10.5233 - mae: 2.5897 - val_loss: 28.1765 - val_mae: 3.2737\n",
      "Epoch 66/100\n",
      "6/6 [==============================] - 0s 29ms/step - loss: 10.2749 - mae: 2.5213 - val_loss: 27.8914 - val_mae: 3.2620\n",
      "Epoch 67/100\n",
      "6/6 [==============================] - 0s 25ms/step - loss: 10.3555 - mae: 2.5423 - val_loss: 28.2506 - val_mae: 3.2743\n",
      "Epoch 68/100\n",
      "6/6 [==============================] - 0s 28ms/step - loss: 9.8548 - mae: 2.4605 - val_loss: 28.2602 - val_mae: 3.2601\n",
      "Epoch 69/100\n",
      "6/6 [==============================] - 0s 32ms/step - loss: 9.8009 - mae: 2.4783 - val_loss: 27.9959 - val_mae: 3.2497\n",
      "Epoch 70/100\n",
      "6/6 [==============================] - 0s 29ms/step - loss: 9.7057 - mae: 2.4501 - val_loss: 28.3135 - val_mae: 3.2687\n",
      "Epoch 71/100\n",
      "6/6 [==============================] - 0s 26ms/step - loss: 9.7456 - mae: 2.4310 - val_loss: 28.4151 - val_mae: 3.2656\n",
      "Epoch 72/100\n",
      "6/6 [==============================] - 0s 30ms/step - loss: 9.3023 - mae: 2.4199 - val_loss: 27.8982 - val_mae: 3.2537\n",
      "Epoch 73/100\n",
      "6/6 [==============================] - 0s 26ms/step - loss: 9.6275 - mae: 2.4121 - val_loss: 28.3667 - val_mae: 3.2704\n",
      "Epoch 74/100\n",
      "6/6 [==============================] - 0s 28ms/step - loss: 9.2535 - mae: 2.4071 - val_loss: 28.0461 - val_mae: 3.2516\n",
      "Epoch 75/100\n",
      "6/6 [==============================] - 0s 26ms/step - loss: 9.3121 - mae: 2.3956 - val_loss: 28.7715 - val_mae: 3.2768\n",
      "Epoch 76/100\n",
      "6/6 [==============================] - 0s 29ms/step - loss: 9.2062 - mae: 2.3924 - val_loss: 28.3527 - val_mae: 3.2453\n",
      "Epoch 77/100\n",
      "6/6 [==============================] - 0s 25ms/step - loss: 9.2388 - mae: 2.3951 - val_loss: 28.1801 - val_mae: 3.2699\n",
      "Epoch 78/100\n",
      "6/6 [==============================] - 0s 25ms/step - loss: 9.1319 - mae: 2.3635 - val_loss: 28.6063 - val_mae: 3.2693\n",
      "Epoch 79/100\n",
      "6/6 [==============================] - 0s 25ms/step - loss: 8.9206 - mae: 2.3518 - val_loss: 28.5982 - val_mae: 3.2550\n",
      "Epoch 80/100\n",
      "6/6 [==============================] - 0s 27ms/step - loss: 8.7760 - mae: 2.3364 - val_loss: 28.1007 - val_mae: 3.2467\n",
      "Epoch 81/100\n",
      "6/6 [==============================] - 0s 25ms/step - loss: 8.6530 - mae: 2.3040 - val_loss: 28.2240 - val_mae: 3.2609\n",
      "Epoch 82/100\n",
      "6/6 [==============================] - 0s 27ms/step - loss: 8.6308 - mae: 2.3160 - val_loss: 28.1849 - val_mae: 3.2510\n",
      "Epoch 83/100\n",
      "6/6 [==============================] - 0s 22ms/step - loss: 8.8102 - mae: 2.3266 - val_loss: 28.6334 - val_mae: 3.2614\n",
      "Epoch 84/100\n",
      "6/6 [==============================] - 0s 25ms/step - loss: 8.4946 - mae: 2.2809 - val_loss: 28.4687 - val_mae: 3.2660\n",
      "Epoch 85/100\n",
      "6/6 [==============================] - 0s 25ms/step - loss: 8.5810 - mae: 2.2808 - val_loss: 28.1785 - val_mae: 3.2532\n",
      "Epoch 86/100\n",
      "6/6 [==============================] - 0s 24ms/step - loss: 8.5510 - mae: 2.3007 - val_loss: 28.3571 - val_mae: 3.2631\n",
      "Epoch 87/100\n",
      "6/6 [==============================] - 0s 29ms/step - loss: 8.8351 - mae: 2.3163 - val_loss: 28.6767 - val_mae: 3.2548\n",
      "Epoch 88/100\n",
      "6/6 [==============================] - 0s 25ms/step - loss: 8.5524 - mae: 2.3184 - val_loss: 28.6677 - val_mae: 3.2866\n",
      "Epoch 89/100\n",
      "6/6 [==============================] - 0s 29ms/step - loss: 8.9384 - mae: 2.3768 - val_loss: 28.9336 - val_mae: 3.2702\n",
      "Epoch 90/100\n",
      "6/6 [==============================] - 0s 25ms/step - loss: 9.3849 - mae: 2.4256 - val_loss: 28.9734 - val_mae: 3.3335\n",
      "Epoch 91/100\n",
      "6/6 [==============================] - 0s 28ms/step - loss: 8.8118 - mae: 2.3299 - val_loss: 28.4640 - val_mae: 3.2627\n",
      "Epoch 92/100\n",
      "6/6 [==============================] - 0s 25ms/step - loss: 8.2950 - mae: 2.2837 - val_loss: 29.1588 - val_mae: 3.2947\n",
      "Epoch 93/100\n",
      "6/6 [==============================] - 0s 28ms/step - loss: 8.2019 - mae: 2.2482 - val_loss: 28.3756 - val_mae: 3.2649\n",
      "Epoch 94/100\n",
      "6/6 [==============================] - 0s 25ms/step - loss: 8.2891 - mae: 2.2977 - val_loss: 28.5183 - val_mae: 3.2554\n",
      "Epoch 95/100\n",
      "6/6 [==============================] - 0s 23ms/step - loss: 8.3596 - mae: 2.2735 - val_loss: 28.3016 - val_mae: 3.2430\n",
      "Epoch 96/100\n",
      "6/6 [==============================] - 0s 25ms/step - loss: 8.0079 - mae: 2.2308 - val_loss: 28.3761 - val_mae: 3.2256\n",
      "Epoch 97/100\n",
      "6/6 [==============================] - 0s 25ms/step - loss: 7.8803 - mae: 2.2075 - val_loss: 28.8882 - val_mae: 3.3089\n",
      "Epoch 98/100\n",
      "6/6 [==============================] - 0s 23ms/step - loss: 8.2387 - mae: 2.2157 - val_loss: 28.0129 - val_mae: 3.2254\n",
      "Epoch 99/100\n",
      "6/6 [==============================] - 0s 25ms/step - loss: 7.8991 - mae: 2.2296 - val_loss: 28.6851 - val_mae: 3.2524\n",
      "Epoch 100/100\n",
      "6/6 [==============================] - 0s 25ms/step - loss: 8.1985 - mae: 2.2594 - val_loss: 28.6985 - val_mae: 3.2435\n"
     ]
    },
    {
     "data": {
      "text/plain": [
       "<keras.callbacks.History at 0x17db89b27d0>"
      ]
     },
     "execution_count": 35,
     "metadata": {},
     "output_type": "execute_result"
    }
   ],
   "source": [
    "model.fit(x_train,y_train,epochs=100,validation_split=0.5)"
   ]
  },
  {
   "cell_type": "code",
   "execution_count": 36,
   "id": "7e3fadab",
   "metadata": {},
   "outputs": [
    {
     "name": "stdout",
     "output_type": "stream",
     "text": [
      "4/4 [==============================] - 0s 9ms/step - loss: 26.0888 - mae: 3.4999\n"
     ]
    }
   ],
   "source": [
    "output = model.evaluate(x_test,y_test)"
   ]
  },
  {
   "cell_type": "code",
   "execution_count": 39,
   "id": "62b2df62",
   "metadata": {},
   "outputs": [
    {
     "name": "stdout",
     "output_type": "stream",
     "text": [
      "MSE: 26.088821411132812\n",
      "MAE: 3.4998552799224854\n"
     ]
    }
   ],
   "source": [
    "print(f\"MSE: {output[0]}\"\n",
    "     ,f\"MAE: {output[1]}\", sep = '\\n')"
   ]
  },
  {
   "cell_type": "code",
   "execution_count": 40,
   "id": "49fa6ea3",
   "metadata": {},
   "outputs": [
    {
     "name": "stdout",
     "output_type": "stream",
     "text": [
      "4/4 [==============================] - 0s 4ms/step\n"
     ]
    }
   ],
   "source": [
    "y_pred = model.predict(x=x_test)"
   ]
  },
  {
   "cell_type": "code",
   "execution_count": 41,
   "id": "f3093286",
   "metadata": {},
   "outputs": [
    {
     "name": "stdout",
     "output_type": "stream",
     "text": [
      "(array([23.923397], dtype=float32), 28.4) (array([30.649027], dtype=float32), 31.1) (array([25.41253], dtype=float32), 23.5) (array([29.9507], dtype=float32), 26.6) (array([20.009724], dtype=float32), 19.6) (array([16.240932], dtype=float32), 14.3) (array([43.644844], dtype=float32), 50.0) (array([12.96935], dtype=float32), 14.3) (array([20.208805], dtype=float32), 20.7) (array([46.662872], dtype=float32), 37.6) (array([18.156254], dtype=float32), 20.4) (array([26.543152], dtype=float32), 27.5) (array([18.60808], dtype=float32), 36.2) (array([33.054363], dtype=float32), 32.0) (array([31.594347], dtype=float32), 33.1) (array([53.754025], dtype=float32), 48.8) (array([26.502287], dtype=float32), 24.6) (array([19.268318], dtype=float32), 26.4) (array([18.662235], dtype=float32), 23.2) (array([21.329409], dtype=float32), 17.0) (array([32.59527], dtype=float32), 41.3) (array([14.790957], dtype=float32), 14.9) (array([18.735315], dtype=float32), 18.5) (array([25.064802], dtype=float32), 25.0) (array([37.893463], dtype=float32), 36.4) (array([21.035477], dtype=float32), 19.5) (array([20.642548], dtype=float32), 27.1) (array([16.002052], dtype=float32), 14.9) (array([44.67643], dtype=float32), 46.0) (array([11.843923], dtype=float32), 17.9) (array([33.89529], dtype=float32), 30.3) (array([32.873745], dtype=float32), 31.6) (array([26.154202], dtype=float32), 23.1) (array([21.882154], dtype=float32), 24.7) (array([15.096492], dtype=float32), 16.7) (array([19.405943], dtype=float32), 18.3) (array([12.161243], dtype=float32), 8.4) (array([34.564617], dtype=float32), 37.3) (array([22.88546], dtype=float32), 22.1) (array([23.16315], dtype=float32), 22.0) (array([41.34748], dtype=float32), 46.7) (array([26.199165], dtype=float32), 30.1) (array([13.702632], dtype=float32), 12.1) (array([28.960564], dtype=float32), 29.1) (array([15.701882], dtype=float32), 16.6) (array([27.306894], dtype=float32), 23.9) (array([18.339794], dtype=float32), 19.9) (array([19.775497], dtype=float32), 21.4) (array([46.598076], dtype=float32), 45.4) (array([16.070162], dtype=float32), 15.6) (array([21.73297], dtype=float32), 22.7) (array([14.310346], dtype=float32), 12.5) (array([14.826598], dtype=float32), 24.3) (array([42.953037], dtype=float32), 43.8) (array([27.791782], dtype=float32), 22.0) (array([33.913498], dtype=float32), 33.8) (array([18.525108], dtype=float32), 19.3) (array([20.007938], dtype=float32), 22.6) (array([20.603619], dtype=float32), 16.1) (array([24.373934], dtype=float32), 15.0) (array([20.570498], dtype=float32), 19.6) (array([15.8948345], dtype=float32), 21.2) (array([54.316135], dtype=float32), 50.0) (array([59.180107], dtype=float32), 50.0) (array([27.590961], dtype=float32), 29.4) (array([13.7995205], dtype=float32), 17.8) (array([22.1595], dtype=float32), 22.8) (array([11.86109], dtype=float32), 8.8) (array([27.358051], dtype=float32), 32.5) (array([47.34527], dtype=float32), 42.8) (array([15.93998], dtype=float32), 12.6) (array([27.879969], dtype=float32), 28.6) (array([17.385342], dtype=float32), 19.1) (array([21.112217], dtype=float32), 50.0) (array([22.447647], dtype=float32), 27.5) (array([16.312216], dtype=float32), 23.7) (array([53.503853], dtype=float32), 50.0) (array([11.709224], dtype=float32), 7.2) (array([18.882895], dtype=float32), 18.7) (array([32.335434], dtype=float32), 37.0) (array([20.725735], dtype=float32), 22.9) (array([25.84351], dtype=float32), 22.9) (array([12.683009], dtype=float32), 17.1) (array([23.45401], dtype=float32), 22.0) (array([31.870651], dtype=float32), 23.6) (array([30.745794], dtype=float32), 23.9) (array([25.054882], dtype=float32), 27.1) (array([33.752647], dtype=float32), 29.0) (array([24.078003], dtype=float32), 22.2) (array([11.806508], dtype=float32), 7.0) (array([22.18644], dtype=float32), 20.7) (array([20.41246], dtype=float32), 18.5) (array([22.248173], dtype=float32), 21.6) (array([24.1449], dtype=float32), 23.0) (array([18.638683], dtype=float32), 16.0) (array([21.431856], dtype=float32), 15.0) (array([25.372688], dtype=float32), 23.9) (array([20.009838], dtype=float32), 24.4) (array([17.921509], dtype=float32), 22.6) (array([18.541246], dtype=float32), 19.8) (array([19.77439], dtype=float32), 22.2) (array([14.458644], dtype=float32), 18.6) (array([16.417868], dtype=float32), 19.7) (array([17.749134], dtype=float32), 23.1) (array([11.774205], dtype=float32), 13.5) (array([12.24219], dtype=float32), 21.2) (array([12.265697], dtype=float32), 23.1) (array([14.265503], dtype=float32), 13.6) (array([28.793373], dtype=float32), 22.8) (array([22.660072], dtype=float32), 18.2) (array([11.77184], dtype=float32), 13.1) (array([17.496597], dtype=float32), 23.2) (array([24.137184], dtype=float32), 22.8) (array([24.118984], dtype=float32), 25.1) (array([21.002731], dtype=float32), 18.9) (array([14.10523], dtype=float32), 10.9) (array([18.843163], dtype=float32), 19.3) (array([19.877918], dtype=float32), 17.4) (array([20.784195], dtype=float32), 15.6) (array([19.42691], dtype=float32), 20.6) (array([34.10605], dtype=float32), 50.0) (array([35.910065], dtype=float32), 32.7) (array([20.768005], dtype=float32), 21.8) (array([16.895176], dtype=float32), 13.4) (array([16.975475], dtype=float32), 16.6) (array([21.909184], dtype=float32), 23.6) (array([12.046418], dtype=float32), 11.0)\n"
     ]
    }
   ],
   "source": [
    "print(*zip(y_pred,y_test))"
   ]
  },
  {
   "cell_type": "code",
   "execution_count": null,
   "id": "a876691e",
   "metadata": {},
   "outputs": [],
   "source": []
  }
 ],
 "metadata": {
  "kernelspec": {
   "display_name": "Python 3 (ipykernel)",
   "language": "python",
   "name": "python3"
  },
  "language_info": {
   "codemirror_mode": {
    "name": "ipython",
    "version": 3
   },
   "file_extension": ".py",
   "mimetype": "text/x-python",
   "name": "python",
   "nbconvert_exporter": "python",
   "pygments_lexer": "ipython3",
   "version": "3.10.6"
  }
 },
 "nbformat": 4,
 "nbformat_minor": 5
}
